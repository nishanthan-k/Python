{
 "cells": [
  {
   "cell_type": "markdown",
   "id": "4d4977e1",
   "metadata": {},
   "source": [
    "## Set"
   ]
  },
  {
   "cell_type": "markdown",
   "id": "9062c264",
   "metadata": {},
   "source": [
    "### it_companies = {'Facebook', 'Google', 'Microsoft', 'Apple', 'IBM', 'Oracle', 'Amazon'}\n",
    "### A = {19, 22, 24, 20, 25, 26}\n",
    "### B = {19, 22, 20, 25, 26, 24, 28, 27}\n",
    "### age = [22, 19, 24, 25, 26, 24, 25, 24]"
   ]
  },
  {
   "cell_type": "markdown",
   "id": "0bb65b1b",
   "metadata": {},
   "source": [
    "## Level 1"
   ]
  },
  {
   "cell_type": "code",
   "execution_count": 17,
   "id": "fcbf5e08",
   "metadata": {},
   "outputs": [],
   "source": [
    "it_companies = {'Facebook', 'Google', 'Microsoft', 'Apple', 'IBM', 'Oracle', 'Amazon'}\n",
    "A = {19, 22, 24, 20, 25, 26}\n",
    "B = {19, 22, 20, 25, 26, 24, 28, 27}\n",
    "age = [22, 19, 24, 25, 26, 24, 25, 24]"
   ]
  },
  {
   "cell_type": "markdown",
   "id": "914de1df",
   "metadata": {},
   "source": [
    "## 1. Find the length of the set it_companies "
   ]
  },
  {
   "cell_type": "code",
   "execution_count": 18,
   "id": "aaafe751",
   "metadata": {},
   "outputs": [
    {
     "name": "stdout",
     "output_type": "stream",
     "text": [
      "7\n"
     ]
    }
   ],
   "source": [
    "print(len(it_companies))"
   ]
  },
  {
   "cell_type": "markdown",
   "id": "f3bffd1a",
   "metadata": {},
   "source": [
    "## 2. Add 'Twitter' to it_companies"
   ]
  },
  {
   "cell_type": "code",
   "execution_count": 19,
   "id": "53f2fdb9",
   "metadata": {},
   "outputs": [
    {
     "name": "stdout",
     "output_type": "stream",
     "text": [
      "{'Microsoft', 'Facebook', 'IBM', 'Google', 'Apple', 'Amazon', 'Twitter', 'Oracle'}\n"
     ]
    }
   ],
   "source": [
    "it_companies.add('Twitter')\n",
    "print(it_companies)"
   ]
  },
  {
   "cell_type": "markdown",
   "id": "006922a1",
   "metadata": {},
   "source": [
    "## 3. Insert multiple IT companies at once to the set it_companies"
   ]
  },
  {
   "cell_type": "code",
   "execution_count": 26,
   "id": "9850cab5",
   "metadata": {},
   "outputs": [
    {
     "name": "stdout",
     "output_type": "stream",
     "text": [
      "{'Oracle', 'Sprout Knowledge Solutions', 'Google', 'Adobe', 'Apple', 'Twitter', 'Zoho', 'Facebook', 'IBM', 'Amazon', 'Sprout Knowldge Solutions', 'Flipkart', 'Microsoft', 'Linkedin'}\n"
     ]
    }
   ],
   "source": [
    "it_companies.update(['Zoho', 'Flipkart', 'Adobe', 'Linkedin', 'Sprout Knowledge Solutions'])\n",
    "print(it_companies)"
   ]
  },
  {
   "cell_type": "markdown",
   "id": "73ca7546",
   "metadata": {},
   "source": [
    "## 4. Remove one of the companies from the set it_companies"
   ]
  },
  {
   "cell_type": "code",
   "execution_count": 27,
   "id": "030fe6a0",
   "metadata": {},
   "outputs": [
    {
     "name": "stdout",
     "output_type": "stream",
     "text": [
      "{'Oracle', 'Google', 'Adobe', 'Apple', 'Twitter', 'Zoho', 'Facebook', 'IBM', 'Amazon', 'Sprout Knowldge Solutions', 'Flipkart', 'Microsoft', 'Linkedin'}\n"
     ]
    }
   ],
   "source": [
    "it_companies.remove('Sprout Knowledge Solutions')\n",
    "print(it_companies)"
   ]
  },
  {
   "cell_type": "markdown",
   "id": "55dbc8dd",
   "metadata": {},
   "source": [
    "## Level 2"
   ]
  },
  {
   "cell_type": "code",
   "execution_count": 34,
   "id": "a1bd5bc3",
   "metadata": {
    "scrolled": true
   },
   "outputs": [
    {
     "name": "stdout",
     "output_type": "stream",
     "text": [
      "A =  {19, 20, 22, 24, 25, 26}\n",
      "B =  {19, 20, 22, 24, 25, 26, 27, 28}\n"
     ]
    }
   ],
   "source": [
    "print(\"A = \", A)\n",
    "print(\"B = \",B)"
   ]
  },
  {
   "cell_type": "markdown",
   "id": "b9a37e6e",
   "metadata": {},
   "source": [
    "## 1. Join A and B"
   ]
  },
  {
   "cell_type": "code",
   "execution_count": 35,
   "id": "dda83b26",
   "metadata": {},
   "outputs": [
    {
     "data": {
      "text/plain": [
       "{19, 20, 22, 24, 25, 26, 27, 28}"
      ]
     },
     "execution_count": 35,
     "metadata": {},
     "output_type": "execute_result"
    }
   ],
   "source": [
    "A.union(B)"
   ]
  },
  {
   "cell_type": "markdown",
   "id": "fbeb8eaa",
   "metadata": {},
   "source": [
    "## 2. Find A intersection B"
   ]
  },
  {
   "cell_type": "code",
   "execution_count": 36,
   "id": "616d8efd",
   "metadata": {},
   "outputs": [
    {
     "name": "stdout",
     "output_type": "stream",
     "text": [
      "{19, 20, 22, 24, 25, 26}\n"
     ]
    }
   ],
   "source": [
    "print(A.intersection(B))"
   ]
  },
  {
   "cell_type": "markdown",
   "id": "50a70ec9",
   "metadata": {},
   "source": [
    "## 3. Is A subset of B"
   ]
  },
  {
   "cell_type": "code",
   "execution_count": 37,
   "id": "5f5f7622",
   "metadata": {},
   "outputs": [
    {
     "name": "stdout",
     "output_type": "stream",
     "text": [
      "True\n"
     ]
    }
   ],
   "source": [
    "print(A.issubset(B))"
   ]
  },
  {
   "cell_type": "markdown",
   "id": "ac74ddd9",
   "metadata": {},
   "source": [
    "## 4. Are A and B disjoint sets"
   ]
  },
  {
   "cell_type": "code",
   "execution_count": 38,
   "id": "7a1c6a52",
   "metadata": {},
   "outputs": [
    {
     "name": "stdout",
     "output_type": "stream",
     "text": [
      "False\n"
     ]
    }
   ],
   "source": [
    "print(A.isdisjoint(B))"
   ]
  },
  {
   "cell_type": "markdown",
   "id": "3178688c",
   "metadata": {},
   "source": [
    "## 5. Join A with B and B with A"
   ]
  },
  {
   "cell_type": "code",
   "execution_count": 39,
   "id": "c1cfabb0",
   "metadata": {},
   "outputs": [
    {
     "name": "stdout",
     "output_type": "stream",
     "text": [
      "{19, 20, 22, 24, 25, 26, 27, 28}\n",
      "{19, 20, 22, 24, 25, 26, 27, 28}\n"
     ]
    }
   ],
   "source": [
    "print(A.union(B))\n",
    "print(B.union(A))"
   ]
  },
  {
   "cell_type": "markdown",
   "id": "647387f3",
   "metadata": {},
   "source": [
    "## 6. What is the symmetric difference between A and B"
   ]
  },
  {
   "cell_type": "code",
   "execution_count": 40,
   "id": "b3254191",
   "metadata": {},
   "outputs": [
    {
     "name": "stdout",
     "output_type": "stream",
     "text": [
      "{27, 28}\n"
     ]
    }
   ],
   "source": [
    "print(A.symmetric_difference(B))"
   ]
  },
  {
   "cell_type": "markdown",
   "id": "984dfbd8",
   "metadata": {},
   "source": [
    "## 7. Delete the sets completely"
   ]
  },
  {
   "cell_type": "code",
   "execution_count": 41,
   "id": "af2309b3",
   "metadata": {},
   "outputs": [],
   "source": [
    "del it_companies\n",
    "del A\n",
    "del B"
   ]
  },
  {
   "cell_type": "code",
   "execution_count": null,
   "id": "32476893",
   "metadata": {},
   "outputs": [],
   "source": []
  }
 ],
 "metadata": {
  "kernelspec": {
   "display_name": "Python 3 (ipykernel)",
   "language": "python",
   "name": "python3"
  },
  "language_info": {
   "codemirror_mode": {
    "name": "ipython",
    "version": 3
   },
   "file_extension": ".py",
   "mimetype": "text/x-python",
   "name": "python",
   "nbconvert_exporter": "python",
   "pygments_lexer": "ipython3",
   "version": "3.9.13"
  }
 },
 "nbformat": 4,
 "nbformat_minor": 5
}
