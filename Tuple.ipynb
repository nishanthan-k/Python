{
 "cells": [
  {
   "cell_type": "markdown",
   "id": "c3ced8cd",
   "metadata": {},
   "source": [
    "# Tuple Exercises"
   ]
  },
  {
   "cell_type": "markdown",
   "id": "811245fd",
   "metadata": {},
   "source": [
    "## Level 1"
   ]
  },
  {
   "cell_type": "markdown",
   "id": "d68096e5",
   "metadata": {},
   "source": [
    "## 1. Create an empty tuple"
   ]
  },
  {
   "cell_type": "code",
   "execution_count": 2,
   "id": "fa9198a1",
   "metadata": {},
   "outputs": [],
   "source": [
    "a = tuple()\n",
    "b = ()"
   ]
  },
  {
   "cell_type": "code",
   "execution_count": 3,
   "id": "975f5778",
   "metadata": {},
   "outputs": [
    {
     "name": "stdout",
     "output_type": "stream",
     "text": [
      "()\n"
     ]
    }
   ],
   "source": [
    "print(a)"
   ]
  },
  {
   "cell_type": "code",
   "execution_count": 4,
   "id": "2d83c28c",
   "metadata": {},
   "outputs": [
    {
     "name": "stdout",
     "output_type": "stream",
     "text": [
      "()\n"
     ]
    }
   ],
   "source": [
    "print(b)"
   ]
  },
  {
   "cell_type": "markdown",
   "id": "a13d4442",
   "metadata": {},
   "source": [
    "## 2. Create a tuple containing names of some sister and some brothers"
   ]
  },
  {
   "cell_type": "code",
   "execution_count": 5,
   "id": "b0e22bd3",
   "metadata": {},
   "outputs": [],
   "source": [
    "sisters = ('Priya','Angel')\n",
    "brothers = ('Gokulakannan', 'Monish', 'Boomer Mama', 'Eeeee Vayan', 'Vanan', 'Praveen')"
   ]
  },
  {
   "cell_type": "code",
   "execution_count": 6,
   "id": "6eda74bf",
   "metadata": {},
   "outputs": [
    {
     "name": "stdout",
     "output_type": "stream",
     "text": [
      "('Priya', 'Angel')\n"
     ]
    }
   ],
   "source": [
    "print(sisters)"
   ]
  },
  {
   "cell_type": "code",
   "execution_count": 7,
   "id": "f9df3447",
   "metadata": {},
   "outputs": [
    {
     "name": "stdout",
     "output_type": "stream",
     "text": [
      "('Gokulakannan', 'Monish', 'Boomer Mama', 'Eeeee Vayan', 'Vanan', 'Praveen')\n"
     ]
    }
   ],
   "source": [
    "print(brothers)"
   ]
  },
  {
   "cell_type": "markdown",
   "id": "80ff7102",
   "metadata": {},
   "source": [
    "## 3. Join brothers and sisters tuples and assign it to siblings"
   ]
  },
  {
   "cell_type": "code",
   "execution_count": 8,
   "id": "d6d849d7",
   "metadata": {},
   "outputs": [
    {
     "name": "stdout",
     "output_type": "stream",
     "text": [
      "('Priya', 'Angel', 'Gokulakannan', 'Monish', 'Boomer Mama', 'Eeeee Vayan', 'Vanan', 'Praveen')\n"
     ]
    }
   ],
   "source": [
    "sibilings = sisters + brothers\n",
    "print(sibilings)"
   ]
  },
  {
   "cell_type": "markdown",
   "id": "cb102216",
   "metadata": {},
   "source": [
    "## 4. How many siblings do you have?"
   ]
  },
  {
   "cell_type": "code",
   "execution_count": 9,
   "id": "356f4c50",
   "metadata": {},
   "outputs": [
    {
     "name": "stdout",
     "output_type": "stream",
     "text": [
      "8\n"
     ]
    }
   ],
   "source": [
    "print(len(sibilings))"
   ]
  },
  {
   "cell_type": "markdown",
   "id": "cf1f3910",
   "metadata": {},
   "source": [
    "## 5.Modify the siblings tuple and add the name of your father and mother and assign it to family_members"
   ]
  },
  {
   "cell_type": "code",
   "execution_count": 10,
   "id": "25be51ed",
   "metadata": {},
   "outputs": [],
   "source": [
    "sibilings = list(sibilings)"
   ]
  },
  {
   "cell_type": "code",
   "execution_count": 11,
   "id": "0ae724bc",
   "metadata": {},
   "outputs": [],
   "source": [
    "sibilings.append('Karunakaran')\n",
    "sibilings.append('Meera')"
   ]
  },
  {
   "cell_type": "code",
   "execution_count": 12,
   "id": "88e9af17",
   "metadata": {},
   "outputs": [
    {
     "name": "stdout",
     "output_type": "stream",
     "text": [
      "['Priya', 'Angel', 'Gokulakannan', 'Monish', 'Boomer Mama', 'Eeeee Vayan', 'Vanan', 'Praveen', 'Karunakaran', 'Meera']\n"
     ]
    }
   ],
   "source": [
    "family_members = sibilings\n",
    "print(family_members)"
   ]
  },
  {
   "cell_type": "markdown",
   "id": "9c22ad8a",
   "metadata": {},
   "source": [
    "## Level 2"
   ]
  },
  {
   "cell_type": "markdown",
   "id": "7052abb0",
   "metadata": {},
   "source": [
    "## 1. Unpack siblings and parents from family_members"
   ]
  },
  {
   "cell_type": "code",
   "execution_count": 13,
   "id": "1aad2e74",
   "metadata": {},
   "outputs": [
    {
     "name": "stdout",
     "output_type": "stream",
     "text": [
      "['Karunakaran']\n"
     ]
    }
   ],
   "source": [
    "parents = family_members[-2::]\n",
    "print(parents)"
   ]
  },
  {
   "cell_type": "code",
   "execution_count": 14,
   "id": "0c2ba410",
   "metadata": {},
   "outputs": [
    {
     "name": "stdout",
     "output_type": "stream",
     "text": [
      "['Priya', 'Angel', 'Gokulakannan', 'Monish', 'Boomer Mama', 'Eeeee Vayan', 'Vanan', 'Praveen']\n"
     ]
    }
   ],
   "source": [
    "sibilings = family_members[0:len(family_members)-2]\n",
    "print(sibilings)"
   ]
  },
  {
   "cell_type": "markdown",
   "id": "f4f6eca3",
   "metadata": {},
   "source": [
    "## 2. Create fruits, vegetables and animal products tuples. Join the three tuples and assign it to a variable called food_stuff_tp."
   ]
  },
  {
   "cell_type": "code",
   "execution_count": 15,
   "id": "1cfe756d",
   "metadata": {},
   "outputs": [],
   "source": [
    "fruits = ('apple', 'orange', 'mango', 'papaya')\n",
    "vegetables = ('carrot', 'beans', 'tomato')\n",
    "animal_products = ('dog buscuit', 'chain', 'dollar')"
   ]
  },
  {
   "cell_type": "code",
   "execution_count": 16,
   "id": "0b34481b",
   "metadata": {},
   "outputs": [
    {
     "name": "stdout",
     "output_type": "stream",
     "text": [
      "('apple', 'orange', 'mango', 'papaya', 'carrot', 'beans', 'tomato', 'dog buscuit', 'chain', 'dollar')\n"
     ]
    }
   ],
   "source": [
    "food_stuff_tp = fruits + vegetables + animal_products\n",
    "print(food_stuff_tp)"
   ]
  },
  {
   "cell_type": "markdown",
   "id": "8d2966e2",
   "metadata": {},
   "source": [
    "## 3. Change the about food_stuff_tp tuple to a food_stuff_lt list"
   ]
  },
  {
   "cell_type": "code",
   "execution_count": 17,
   "id": "0bf4855b",
   "metadata": {},
   "outputs": [
    {
     "name": "stdout",
     "output_type": "stream",
     "text": [
      "['apple', 'orange', 'mango', 'papaya', 'carrot', 'beans', 'tomato', 'dog buscuit', 'chain', 'dollar']\n"
     ]
    }
   ],
   "source": [
    "food_stuff_lt = list(food_stuff_tp)\n",
    "print(food_stuff_lt)"
   ]
  },
  {
   "cell_type": "markdown",
   "id": "cd3a5479",
   "metadata": {},
   "source": [
    "## 4. Slice out the middle item from food_stuff_lt list."
   ]
  },
  {
   "cell_type": "code",
   "execution_count": 18,
   "id": "40b3cc43",
   "metadata": {},
   "outputs": [
    {
     "name": "stdout",
     "output_type": "stream",
     "text": [
      "beans\n"
     ]
    }
   ],
   "source": [
    "print(food_stuff_lt[int(len(food_stuff_lt)/2)])"
   ]
  },
  {
   "cell_type": "markdown",
   "id": "ccfbaa7c",
   "metadata": {},
   "source": [
    "## 5. Slice out the first three items and the last three items from food_staff_lt list"
   ]
  },
  {
   "cell_type": "code",
   "execution_count": 19,
   "id": "f181540f",
   "metadata": {},
   "outputs": [
    {
     "name": "stdout",
     "output_type": "stream",
     "text": [
      "['apple', 'orange', 'mango']\n",
      "['dog buscuit', 'chain', 'dollar']\n"
     ]
    }
   ],
   "source": [
    "print(food_stuff_lt[0:3])\n",
    "print(food_stuff_lt[-3::])"
   ]
  },
  {
   "cell_type": "markdown",
   "id": "ab980cf0",
   "metadata": {},
   "source": [
    "## 6. Delete the food_stuff_tp tuple completely"
   ]
  },
  {
   "cell_type": "code",
   "execution_count": 20,
   "id": "48e50eff",
   "metadata": {},
   "outputs": [],
   "source": [
    "del food_stuff_tp"
   ]
  },
  {
   "cell_type": "markdown",
   "id": "e3cc3f2c",
   "metadata": {},
   "source": [
    "## 7. Check if an item exists in tuple: \n",
    "## nordic_countries = ('Denmark', 'Finland','Iceland', 'Norway', 'Sweden')\n",
    "### 7.a Check if 'Estonia' is a nordic country\n",
    "### 7.b Check if 'Iceland' is a nordic country"
   ]
  },
  {
   "cell_type": "code",
   "execution_count": 21,
   "id": "13344d14",
   "metadata": {},
   "outputs": [],
   "source": [
    "nordic_countries = ('Denmark', 'Finland','Iceland', 'Norway', 'Sweden')"
   ]
  },
  {
   "cell_type": "code",
   "execution_count": 22,
   "id": "904e6fe5",
   "metadata": {},
   "outputs": [
    {
     "name": "stdout",
     "output_type": "stream",
     "text": [
      "False\n"
     ]
    }
   ],
   "source": [
    "print('Estonia' in nordic_countries)"
   ]
  },
  {
   "cell_type": "code",
   "execution_count": 23,
   "id": "b4146177",
   "metadata": {},
   "outputs": [
    {
     "name": "stdout",
     "output_type": "stream",
     "text": [
      "True\n"
     ]
    }
   ],
   "source": [
    "print('Iceland' in nordic_countries)"
   ]
  },
  {
   "cell_type": "code",
   "execution_count": null,
   "id": "a58683d8",
   "metadata": {},
   "outputs": [],
   "source": []
  }
 ],
 "metadata": {
  "kernelspec": {
   "display_name": "Python 3 (ipykernel)",
   "language": "python",
   "name": "python3"
  },
  "language_info": {
   "codemirror_mode": {
    "name": "ipython",
    "version": 3
   },
   "file_extension": ".py",
   "mimetype": "text/x-python",
   "name": "python",
   "nbconvert_exporter": "python",
   "pygments_lexer": "ipython3",
   "version": "3.9.13"
  }
 },
 "nbformat": 4,
 "nbformat_minor": 5
}
