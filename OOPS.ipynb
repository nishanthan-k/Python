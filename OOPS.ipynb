{
 "cells": [
  {
   "cell_type": "code",
   "execution_count": 4,
   "id": "27e8191b",
   "metadata": {},
   "outputs": [
    {
     "name": "stdout",
     "output_type": "stream",
     "text": [
      "2\n"
     ]
    }
   ],
   "source": [
    "class C:\n",
    "    def __init__(self, x):\n",
    "        self.x = x\n",
    "        \n",
    "    def add(self, x):\n",
    "        return x+1\n",
    "    \n",
    "    def mul(self, x):\n",
    "        return x*2\n",
    "    \n",
    "a = C(2)\n",
    "print(a.x)\n"
   ]
  },
  {
   "cell_type": "code",
   "execution_count": 11,
   "id": "6366af36",
   "metadata": {},
   "outputs": [
    {
     "name": "stdout",
     "output_type": "stream",
     "text": [
      "10\n",
      "40\n",
      "\n",
      "20\n",
      "60\n"
     ]
    }
   ],
   "source": [
    "class Rectangle:\n",
    "    pass\n",
    "\n",
    "rect1 = Rectangle()\n",
    "rect2 = Rectangle()\n",
    "\n",
    "rect1.height = 10\n",
    "rect1.width = 40\n",
    "\n",
    "rect2.height = 20\n",
    "rect2.width = 60\n",
    "\n",
    "print(rect1.height)\n",
    "print(rect1.width, end = \"\\n\\n\")\n",
    "\n",
    "print(rect2.height)\n",
    "print(rect2.width)\n"
   ]
  },
  {
   "cell_type": "code",
   "execution_count": 29,
   "id": "44909e40",
   "metadata": {},
   "outputs": [
    {
     "name": "stdout",
     "output_type": "stream",
     "text": [
      "10\n",
      "50\n",
      "500\n",
      "\n",
      "20\n",
      "60\n",
      "1200\n"
     ]
    }
   ],
   "source": [
    "class Rectangle2:\n",
    "    def __init__(self, height, width):\n",
    "        self.height = height\n",
    "        self.width = width \n",
    "\n",
    "rect1 = Rectangle2(10,50)\n",
    "area1 = rect1.height * rect1.width\n",
    "rect2 = Rectangle2(20,60)\n",
    "area2 = rect2.height * rect2.width\n",
    "\n",
    "print(rect1.height)\n",
    "print(rect1.width)\n",
    "print(area1, end = \"\\n\\n\")\n",
    "\n",
    "print(rect2.height)\n",
    "print(rect2.width)\n",
    "print(area2)"
   ]
  },
  {
   "cell_type": "code",
   "execution_count": 30,
   "id": "c06a0a93",
   "metadata": {},
   "outputs": [
    {
     "name": "stdout",
     "output_type": "stream",
     "text": [
      "10\n",
      "50\n",
      "500\n",
      "\n",
      "20\n",
      "60\n",
      "1200\n"
     ]
    }
   ],
   "source": [
    "class Rectangle2:\n",
    "    def __init__(self, height, width):\n",
    "        self.height = height\n",
    "        self.width = width \n",
    "\n",
    "    def area(self):\n",
    "        return self.height * self.width\n",
    "    \n",
    "rect1 = Rectangle2(10,50)\n",
    "rect2 = Rectangle2(20,60)\n",
    "\n",
    "print(rect1.height)\n",
    "print(rect1.width)\n",
    "print(rect1.area(), end = \"\\n\\n\")\n",
    "\n",
    "print(rect2.height)\n",
    "print(rect2.width)\n",
    "print(rect2.area())"
   ]
  },
  {
   "cell_type": "code",
   "execution_count": 38,
   "id": "bb078326",
   "metadata": {},
   "outputs": [
    {
     "name": "stdout",
     "output_type": "stream",
     "text": [
      "Hello\n",
      "10\n"
     ]
    }
   ],
   "source": [
    "class N:\n",
    "    def __init__(self, name):\n",
    "        self.name = name\n",
    "        self.age = 10  # default age\n",
    "\n",
    "a = N(\"Hello\")\n",
    "print(a.name)\n",
    "print(a.age)"
   ]
  },
  {
   "cell_type": "markdown",
   "id": "37046f25",
   "metadata": {},
   "source": [
    "### If there are more than one __init__ method in the class, then the python only consider the last one is as the original __init__ method"
   ]
  },
  {
   "cell_type": "code",
   "execution_count": 42,
   "id": "3e4d6322",
   "metadata": {},
   "outputs": [
    {
     "ename": "TypeError",
     "evalue": "__init__() takes 1 positional argument but 2 were given",
     "output_type": "error",
     "traceback": [
      "\u001b[1;31m---------------------------------------------------------------------------\u001b[0m",
      "\u001b[1;31mTypeError\u001b[0m                                 Traceback (most recent call last)",
      "\u001b[1;32m~\\AppData\\Local\\Temp\\ipykernel_8404\\3751004479.py\u001b[0m in \u001b[0;36m<module>\u001b[1;34m\u001b[0m\n\u001b[0;32m      7\u001b[0m \u001b[1;33m\u001b[0m\u001b[0m\n\u001b[0;32m      8\u001b[0m \u001b[0ma\u001b[0m \u001b[1;33m=\u001b[0m \u001b[0mN\u001b[0m\u001b[1;33m(\u001b[0m\u001b[1;33m)\u001b[0m\u001b[1;33m\u001b[0m\u001b[1;33m\u001b[0m\u001b[0m\n\u001b[1;32m----> 9\u001b[1;33m \u001b[0mb\u001b[0m \u001b[1;33m=\u001b[0m \u001b[0mN\u001b[0m\u001b[1;33m(\u001b[0m\u001b[1;34m\"Hello\"\u001b[0m\u001b[1;33m)\u001b[0m\u001b[1;33m\u001b[0m\u001b[1;33m\u001b[0m\u001b[0m\n\u001b[0m",
      "\u001b[1;31mTypeError\u001b[0m: __init__() takes 1 positional argument but 2 were given"
     ]
    }
   ],
   "source": [
    "class N:\n",
    "    def __init__(self):\n",
    "        pass\n",
    "    \n",
    "    def __init(self, name):\n",
    "        print(\"init called\")\n",
    "        \n",
    "a = N()\n",
    "b = N(\"Hello\")"
   ]
  },
  {
   "cell_type": "code",
   "execution_count": 44,
   "id": "def0b5d7",
   "metadata": {},
   "outputs": [
    {
     "name": "stdout",
     "output_type": "stream",
     "text": [
      "init called\n"
     ]
    },
    {
     "ename": "TypeError",
     "evalue": "__init__() takes 1 positional argument but 2 were given",
     "output_type": "error",
     "traceback": [
      "\u001b[1;31m---------------------------------------------------------------------------\u001b[0m",
      "\u001b[1;31mTypeError\u001b[0m                                 Traceback (most recent call last)",
      "\u001b[1;32m~\\AppData\\Local\\Temp\\ipykernel_8404\\3891957248.py\u001b[0m in \u001b[0;36m<module>\u001b[1;34m\u001b[0m\n\u001b[0;32m      8\u001b[0m \u001b[1;33m\u001b[0m\u001b[0m\n\u001b[0;32m      9\u001b[0m \u001b[0ma\u001b[0m \u001b[1;33m=\u001b[0m \u001b[0mN\u001b[0m\u001b[1;33m(\u001b[0m\u001b[1;33m)\u001b[0m\u001b[1;33m\u001b[0m\u001b[1;33m\u001b[0m\u001b[0m\n\u001b[1;32m---> 10\u001b[1;33m \u001b[0mb\u001b[0m \u001b[1;33m=\u001b[0m \u001b[0mN\u001b[0m\u001b[1;33m(\u001b[0m\u001b[1;34m\"Hello\"\u001b[0m\u001b[1;33m)\u001b[0m\u001b[1;33m\u001b[0m\u001b[1;33m\u001b[0m\u001b[0m\n\u001b[0m",
      "\u001b[1;31mTypeError\u001b[0m: __init__() takes 1 positional argument but 2 were given"
     ]
    }
   ],
   "source": [
    "class N:\n",
    "    def __init(self, name):\n",
    "        pass\n",
    "    \n",
    "    def __init__(self):\n",
    "        print(\"init called\")\n",
    "    \n",
    "        \n",
    "a = N()\n",
    "b = N(\"Hello\")"
   ]
  },
  {
   "cell_type": "markdown",
   "id": "d9fe1548",
   "metadata": {},
   "source": [
    "### to make private members in python use double underscore as the keyword like \"private\" in java"
   ]
  },
  {
   "cell_type": "code",
   "execution_count": 64,
   "id": "fef26f83",
   "metadata": {},
   "outputs": [
    {
     "name": "stdout",
     "output_type": "stream",
     "text": [
      "Hi\n",
      "Hello\n"
     ]
    }
   ],
   "source": [
    "class N1:\n",
    "    def __init__(self, name):\n",
    "        self.name = name\n",
    "        \n",
    "    def set_name(self, name):\n",
    "        self.name = name\n",
    "    \n",
    "    def get_name(self):\n",
    "        return self.name\n",
    "    \n",
    "a = N1(\"Hi\")\n",
    "print(a.get_name())\n",
    "\n",
    "# you can see now the data will be possible to change\n",
    "a.name = \"Hello\"\n",
    "print(a.get_name())\n"
   ]
  },
  {
   "cell_type": "code",
   "execution_count": 61,
   "id": "9513f281",
   "metadata": {},
   "outputs": [
    {
     "name": "stdout",
     "output_type": "stream",
     "text": [
      "Hi\n"
     ]
    },
    {
     "ename": "AttributeError",
     "evalue": "'N1' object has no attribute '__name'",
     "output_type": "error",
     "traceback": [
      "\u001b[1;31m---------------------------------------------------------------------------\u001b[0m",
      "\u001b[1;31mAttributeError\u001b[0m                            Traceback (most recent call last)",
      "\u001b[1;32m~\\AppData\\Local\\Temp\\ipykernel_8404\\889993820.py\u001b[0m in \u001b[0;36m<module>\u001b[1;34m\u001b[0m\n\u001b[0;32m     11\u001b[0m \u001b[0ma\u001b[0m \u001b[1;33m=\u001b[0m \u001b[0mN1\u001b[0m\u001b[1;33m(\u001b[0m\u001b[1;34m\"Hi\"\u001b[0m\u001b[1;33m)\u001b[0m\u001b[1;33m\u001b[0m\u001b[1;33m\u001b[0m\u001b[0m\n\u001b[0;32m     12\u001b[0m \u001b[0mprint\u001b[0m\u001b[1;33m(\u001b[0m\u001b[0ma\u001b[0m\u001b[1;33m.\u001b[0m\u001b[0mget_name\u001b[0m\u001b[1;33m(\u001b[0m\u001b[1;33m)\u001b[0m\u001b[1;33m)\u001b[0m\u001b[1;33m\u001b[0m\u001b[1;33m\u001b[0m\u001b[0m\n\u001b[1;32m---> 13\u001b[1;33m \u001b[0ma\u001b[0m\u001b[1;33m.\u001b[0m\u001b[0m__name\u001b[0m\u001b[1;33m(\u001b[0m\u001b[1;34m\"Hello\"\u001b[0m\u001b[1;33m)\u001b[0m  \u001b[1;31m# it returns no attribute like __name because it is private now\u001b[0m\u001b[1;33m\u001b[0m\u001b[1;33m\u001b[0m\u001b[0m\n\u001b[0m\u001b[0;32m     14\u001b[0m \u001b[1;31m# print(a.get_name())\u001b[0m\u001b[1;33m\u001b[0m\u001b[1;33m\u001b[0m\u001b[0m\n\u001b[0;32m     15\u001b[0m \u001b[1;31m# print(a.__name)\u001b[0m\u001b[1;33m\u001b[0m\u001b[1;33m\u001b[0m\u001b[0m\n",
      "\u001b[1;31mAttributeError\u001b[0m: 'N1' object has no attribute '__name'"
     ]
    }
   ],
   "source": [
    "class N1:\n",
    "    def __init__(self, name):\n",
    "        self.__name = name\n",
    "        \n",
    "    def set_name(self, name):\n",
    "        self.__name = name\n",
    "    \n",
    "    def get_name(self):\n",
    "        return self.__name\n",
    "    \n",
    "a = N1(\"Hi\")\n",
    "print(a.get_name())\n",
    "a.__name(\"Hello\")  # it returns no attribute like __name because it is private now\n",
    "# print(a.get_name())\n",
    "# print(a.__name)\n"
   ]
  },
  {
   "cell_type": "markdown",
   "id": "6e3f3fba",
   "metadata": {},
   "source": [
    "### getter and setter method"
   ]
  },
  {
   "cell_type": "code",
   "execution_count": 75,
   "id": "1d4264aa",
   "metadata": {},
   "outputs": [
    {
     "name": "stdout",
     "output_type": "stream",
     "text": [
      "10\n",
      "50\n",
      "500\n",
      "\n",
      "20\n",
      "60\n",
      "1200\n",
      "\n"
     ]
    }
   ],
   "source": [
    "class Rectangle2:\n",
    "    def __init__(self, height, width):\n",
    "        self.__height = height\n",
    "        self.__width = width \n",
    "\n",
    "    def set_height(self, value):\n",
    "        self.__height = value\n",
    "        \n",
    "    def set_width(self, value):\n",
    "        self.__width = value\n",
    "        \n",
    "    def get_height(self):\n",
    "        return self.__height\n",
    "    \n",
    "    def get_width(self):\n",
    "        return self.__width\n",
    "        \n",
    "    def area(self):\n",
    "        return self.__height * self.__width\n",
    "    \n",
    "rect1 = Rectangle2(10,50)\n",
    "rect2 = Rectangle2(20,60)\n",
    "\n",
    "print(rect1.get_height())\n",
    "print(rect1.get_width())\n",
    "print(rect1.area(), end = \"\\n\\n\")\n",
    "\n",
    "print(rect2.get_height())\n",
    "print(rect2.get_width())\n",
    "print(rect2.area(), end = \"\\n\\n\")"
   ]
  },
  {
   "cell_type": "code",
   "execution_count": 76,
   "id": "3c45e07d",
   "metadata": {},
   "outputs": [
    {
     "name": "stdout",
     "output_type": "stream",
     "text": [
      "Alice\n",
      "Bob\n",
      "25\n",
      "30\n"
     ]
    },
    {
     "ename": "ValueError",
     "evalue": "Invalid age value",
     "output_type": "error",
     "traceback": [
      "\u001b[1;31m---------------------------------------------------------------------------\u001b[0m",
      "\u001b[1;31mValueError\u001b[0m                                Traceback (most recent call last)",
      "\u001b[1;32m~\\AppData\\Local\\Temp\\ipykernel_8404\\536015228.py\u001b[0m in \u001b[0;36m<module>\u001b[1;34m\u001b[0m\n\u001b[0;32m     30\u001b[0m \u001b[0mprint\u001b[0m\u001b[1;33m(\u001b[0m\u001b[0mperson\u001b[0m\u001b[1;33m.\u001b[0m\u001b[0mget_age\u001b[0m\u001b[1;33m(\u001b[0m\u001b[1;33m)\u001b[0m\u001b[1;33m)\u001b[0m  \u001b[1;31m# prints 30\u001b[0m\u001b[1;33m\u001b[0m\u001b[1;33m\u001b[0m\u001b[0m\n\u001b[0;32m     31\u001b[0m \u001b[1;33m\u001b[0m\u001b[0m\n\u001b[1;32m---> 32\u001b[1;33m \u001b[0mperson\u001b[0m\u001b[1;33m.\u001b[0m\u001b[0mset_age\u001b[0m\u001b[1;33m(\u001b[0m\u001b[1;36m130\u001b[0m\u001b[1;33m)\u001b[0m  \u001b[1;31m# raises ValueError: \"Invalid age value\"\u001b[0m\u001b[1;33m\u001b[0m\u001b[1;33m\u001b[0m\u001b[0m\n\u001b[0m",
      "\u001b[1;32m~\\AppData\\Local\\Temp\\ipykernel_8404\\536015228.py\u001b[0m in \u001b[0;36mset_age\u001b[1;34m(self, age)\u001b[0m\n\u001b[0;32m     17\u001b[0m             \u001b[0mself\u001b[0m\u001b[1;33m.\u001b[0m\u001b[0m__age\u001b[0m \u001b[1;33m=\u001b[0m \u001b[0mage\u001b[0m\u001b[1;33m\u001b[0m\u001b[1;33m\u001b[0m\u001b[0m\n\u001b[0;32m     18\u001b[0m         \u001b[1;32melse\u001b[0m\u001b[1;33m:\u001b[0m\u001b[1;33m\u001b[0m\u001b[1;33m\u001b[0m\u001b[0m\n\u001b[1;32m---> 19\u001b[1;33m             \u001b[1;32mraise\u001b[0m \u001b[0mValueError\u001b[0m\u001b[1;33m(\u001b[0m\u001b[1;34m\"Invalid age value\"\u001b[0m\u001b[1;33m)\u001b[0m\u001b[1;33m\u001b[0m\u001b[1;33m\u001b[0m\u001b[0m\n\u001b[0m\u001b[0;32m     20\u001b[0m             \u001b[1;31m#raise NameError(\"Invalid age value\")\u001b[0m\u001b[1;33m\u001b[0m\u001b[1;33m\u001b[0m\u001b[0m\n\u001b[0;32m     21\u001b[0m             \u001b[1;31m#raise AttributeError(\"Invalid age value\")\u001b[0m\u001b[1;33m\u001b[0m\u001b[1;33m\u001b[0m\u001b[0m\n",
      "\u001b[1;31mValueError\u001b[0m: Invalid age value"
     ]
    }
   ],
   "source": [
    "class Person:\n",
    "    def __init__(self, name, age):\n",
    "        self.__name = name\n",
    "        self.__age = age\n",
    "    \n",
    "    def get_name(self):\n",
    "        return self.__name\n",
    "    \n",
    "    def set_name(self, name):\n",
    "        self.__name = name\n",
    "    \n",
    "    def get_age(self):\n",
    "        return self.__age\n",
    "    \n",
    "    def set_age(self, age):\n",
    "        if age > 0 and age < 120:\n",
    "            self.__age = age\n",
    "        else:\n",
    "            raise ValueError(\"Invalid age value\")\n",
    "            #raise NameError(\"Invalid age value\")\n",
    "            #raise AttributeError(\"Invalid age value\")\n",
    "\n",
    "person = Person(\"Alice\", 25)\n",
    "print(person.get_name())  # prints \"Alice\"\n",
    "person.set_name(\"Bob\")\n",
    "print(person.get_name())  # prints \"Bob\"\n",
    "\n",
    "print(person.get_age())  # prints 25\n",
    "person.set_age(30)\n",
    "print(person.get_age())  # prints 30\n",
    "\n",
    "person.set_age(130)  # raises ValueError: \"Invalid age value\"\n"
   ]
  },
  {
   "cell_type": "markdown",
   "id": "20705857",
   "metadata": {},
   "source": [
    "### public and private method"
   ]
  },
  {
   "cell_type": "code",
   "execution_count": 80,
   "id": "02a916b7",
   "metadata": {},
   "outputs": [
    {
     "name": "stdout",
     "output_type": "stream",
     "text": [
      "Public Method\n",
      "10\n",
      "20\n"
     ]
    },
    {
     "ename": "AttributeError",
     "evalue": "'Hello' object has no attribute '__private_method'",
     "output_type": "error",
     "traceback": [
      "\u001b[1;31m---------------------------------------------------------------------------\u001b[0m",
      "\u001b[1;31mAttributeError\u001b[0m                            Traceback (most recent call last)",
      "\u001b[1;32m~\\AppData\\Local\\Temp\\ipykernel_8404\\1840071073.py\u001b[0m in \u001b[0;36m<module>\u001b[1;34m\u001b[0m\n\u001b[0;32m     16\u001b[0m \u001b[0mh\u001b[0m \u001b[1;33m=\u001b[0m \u001b[0mHello\u001b[0m\u001b[1;33m(\u001b[0m\u001b[1;33m)\u001b[0m\u001b[1;33m\u001b[0m\u001b[1;33m\u001b[0m\u001b[0m\n\u001b[0;32m     17\u001b[0m \u001b[0mh\u001b[0m\u001b[1;33m.\u001b[0m\u001b[0mpublic_method\u001b[0m\u001b[1;33m(\u001b[0m\u001b[1;33m)\u001b[0m\u001b[1;33m\u001b[0m\u001b[1;33m\u001b[0m\u001b[0m\n\u001b[1;32m---> 18\u001b[1;33m \u001b[0mh\u001b[0m\u001b[1;33m.\u001b[0m\u001b[0m__private_method\u001b[0m\u001b[1;33m(\u001b[0m\u001b[1;33m)\u001b[0m\u001b[1;33m\u001b[0m\u001b[1;33m\u001b[0m\u001b[0m\n\u001b[0m",
      "\u001b[1;31mAttributeError\u001b[0m: 'Hello' object has no attribute '__private_method'"
     ]
    }
   ],
   "source": [
    "class Hello:\n",
    "    def __init__(self):\n",
    "        self.pub_var = 10\n",
    "        self.__pri_var = 20\n",
    "    \n",
    "    def public_method(self):\n",
    "        print(\"Public Method\")\n",
    "        print(self.pub_var)\n",
    "        print(self.__pri_var)\n",
    "        \n",
    "    def __private_method(self):\n",
    "        print(\"Private Method\")\n",
    "        print(self.pub_var)\n",
    "        print(self.__pri_var)        \n",
    "\n",
    "h = Hello()\n",
    "h.public_method()\n",
    "h.__private_method()  # not able to access private method outside the function as same as private variable"
   ]
  },
  {
   "cell_type": "code",
   "execution_count": 84,
   "id": "8270b5b8",
   "metadata": {},
   "outputs": [
    {
     "name": "stdout",
     "output_type": "stream",
     "text": [
      "Public Method\n",
      "10\n",
      "20\n",
      "\n",
      "Private Method\n",
      "10\n",
      "20\n"
     ]
    }
   ],
   "source": [
    "class Hello:\n",
    "    def __init__(self):\n",
    "        self.pub_var = 10\n",
    "        self.__pri_var = 20\n",
    "    \n",
    "    def public_method(self):\n",
    "        print(\"Public Method\")\n",
    "        print(self.pub_var)\n",
    "        print(self.__pri_var, end = \"\\n\\n\")\n",
    "        Hello.__private_method(self)  # we can access private method by calling it in the other class members\n",
    "        \n",
    "    def __private_method(self):\n",
    "        print(\"Private Method\")\n",
    "        print(self.pub_var)\n",
    "        print(self.__pri_var)        \n",
    "\n",
    "h = Hello()\n",
    "h.public_method()"
   ]
  },
  {
   "cell_type": "markdown",
   "id": "48ec63d5",
   "metadata": {},
   "source": [
    "## Inheritance"
   ]
  },
  {
   "cell_type": "code",
   "execution_count": 86,
   "id": "acefa20c",
   "metadata": {},
   "outputs": [
    {
     "name": "stdout",
     "output_type": "stream",
     "text": [
      "200\n",
      "\n",
      "100\n"
     ]
    }
   ],
   "source": [
    "class Structure:\n",
    "    def set_values(self, height, width):\n",
    "        self.height = height\n",
    "        self.width = width\n",
    "        \n",
    "    def get_values(self):\n",
    "        print(self.height)\n",
    "        print(self.width)\n",
    "    \n",
    "class Rectangle(Structure):\n",
    "    def area(self):\n",
    "        return self.height * self.width\n",
    "\n",
    "class Square(Structure):\n",
    "    def area(self):\n",
    "        return self.height**2\n",
    "    \n",
    "r = Rectangle()\n",
    "r.set_values(10,20)\n",
    "print(r.area(), end=\"\\n\\n\")\n",
    "\n",
    "s = Square()\n",
    "s.set_values(10,10)\n",
    "print(s.area())"
   ]
  },
  {
   "cell_type": "code",
   "execution_count": 92,
   "id": "e474f3a1",
   "metadata": {},
   "outputs": [
    {
     "name": "stdout",
     "output_type": "stream",
     "text": [
      "Height =  10\n",
      "Width =  20\n",
      "None\n",
      "200\n",
      "\n",
      "Height =  10\n",
      "Width =  10\n",
      "100\n"
     ]
    }
   ],
   "source": [
    "class Structure:\n",
    "    def set_values(self, height, width):\n",
    "        self.height = height\n",
    "        self.width = width\n",
    "        \n",
    "    def get_values(self):\n",
    "        print(self.height)\n",
    "        print(self.width)\n",
    "    \n",
    "class Rectangle(Structure):\n",
    "    def get(self):\n",
    "        print(\"Height = \", self.height)\n",
    "        print(\"Width = \", self.width)\n",
    "        \n",
    "    def area(self):\n",
    "        return self.height * self.width\n",
    "\n",
    "class Square(Rectangle):\n",
    "    def area(self):\n",
    "        return self.height**2\n",
    "    \n",
    "r = Rectangle()\n",
    "r.set_values(10,20)\n",
    "print(r.get())\n",
    "print(r.area(), end=\"\\n\\n\")\n",
    "\n",
    "s = Square()\n",
    "s.set_values(10,10)\n",
    "s.get()\n",
    "print(s.area())"
   ]
  },
  {
   "cell_type": "code",
   "execution_count": null,
   "id": "f224633a",
   "metadata": {},
   "outputs": [],
   "source": []
  },
  {
   "cell_type": "code",
   "execution_count": null,
   "id": "aad0205c",
   "metadata": {},
   "outputs": [],
   "source": []
  },
  {
   "cell_type": "code",
   "execution_count": null,
   "id": "ee1097fc",
   "metadata": {},
   "outputs": [],
   "source": []
  }
 ],
 "metadata": {
  "kernelspec": {
   "display_name": "Python 3 (ipykernel)",
   "language": "python",
   "name": "python3"
  },
  "language_info": {
   "codemirror_mode": {
    "name": "ipython",
    "version": 3
   },
   "file_extension": ".py",
   "mimetype": "text/x-python",
   "name": "python",
   "nbconvert_exporter": "python",
   "pygments_lexer": "ipython3",
   "version": "3.9.13"
  }
 },
 "nbformat": 4,
 "nbformat_minor": 5
}
