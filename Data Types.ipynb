{
 "cells": [
  {
   "cell_type": "markdown",
   "id": "6cd1453d",
   "metadata": {},
   "source": [
    "### Text Type:\tstr\n",
    "### Numeric Types:\tint, float, complex\n",
    "### Sequence Types:\tlist, tuple, range\n",
    "### Mapping Type:\tdict\n",
    "### Set Types:\tset, frozenset\n",
    "### Boolean Type:\tbool\n",
    "### Binary Types:\tbytes, bytearray, memoryview\n",
    "### None Type:\tNoneType"
   ]
  },
  {
   "cell_type": "markdown",
   "id": "c31cc41c",
   "metadata": {},
   "source": [
    "## Numerical Data Types"
   ]
  },
  {
   "cell_type": "code",
   "execution_count": 1,
   "id": "4a39a343",
   "metadata": {},
   "outputs": [
    {
     "name": "stdout",
     "output_type": "stream",
     "text": [
      "5\n"
     ]
    }
   ],
   "source": [
    "a = input()\n",
    "b = 5"
   ]
  },
  {
   "cell_type": "code",
   "execution_count": 2,
   "id": "a3843afb",
   "metadata": {},
   "outputs": [
    {
     "ename": "TypeError",
     "evalue": "can only concatenate str (not \"int\") to str",
     "output_type": "error",
     "traceback": [
      "\u001b[1;31m---------------------------------------------------------------------------\u001b[0m",
      "\u001b[1;31mTypeError\u001b[0m                                 Traceback (most recent call last)",
      "\u001b[1;32m~\\AppData\\Local\\Temp\\ipykernel_5072\\1083478837.py\u001b[0m in \u001b[0;36m<module>\u001b[1;34m\u001b[0m\n\u001b[1;32m----> 1\u001b[1;33m \u001b[0mprint\u001b[0m\u001b[1;33m(\u001b[0m\u001b[0ma\u001b[0m\u001b[1;33m+\u001b[0m\u001b[0mb\u001b[0m\u001b[1;33m)\u001b[0m\u001b[1;33m\u001b[0m\u001b[1;33m\u001b[0m\u001b[0m\n\u001b[0m",
      "\u001b[1;31mTypeError\u001b[0m: can only concatenate str (not \"int\") to str"
     ]
    }
   ],
   "source": [
    "print(a+b)"
   ]
  },
  {
   "cell_type": "code",
   "execution_count": 11,
   "id": "d3090dbc",
   "metadata": {},
   "outputs": [
    {
     "name": "stdout",
     "output_type": "stream",
     "text": [
      "1.0\n"
     ]
    }
   ],
   "source": [
    "print(a/b)"
   ]
  },
  {
   "cell_type": "code",
   "execution_count": 12,
   "id": "1d702244",
   "metadata": {},
   "outputs": [
    {
     "name": "stdout",
     "output_type": "stream",
     "text": [
      "1\n"
     ]
    }
   ],
   "source": [
    "print(a//b)"
   ]
  },
  {
   "cell_type": "code",
   "execution_count": 16,
   "id": "7fede2e1",
   "metadata": {},
   "outputs": [
    {
     "name": "stdout",
     "output_type": "stream",
     "text": [
      "0\n"
     ]
    }
   ],
   "source": [
    "print(a%b)"
   ]
  },
  {
   "cell_type": "code",
   "execution_count": 21,
   "id": "a09bb0a0",
   "metadata": {},
   "outputs": [
    {
     "name": "stdout",
     "output_type": "stream",
     "text": [
      "5 5 \n",
      "\n",
      "he\n"
     ]
    }
   ],
   "source": [
    "print(a,b,\"\\n\")\n",
    "print(\"he\")"
   ]
  },
  {
   "cell_type": "code",
   "execution_count": 7,
   "id": "95a690cb",
   "metadata": {},
   "outputs": [],
   "source": [
    "x = 10.0\n",
    "y = 20.0"
   ]
  },
  {
   "cell_type": "code",
   "execution_count": 8,
   "id": "c7a6c924",
   "metadata": {},
   "outputs": [
    {
     "name": "stdout",
     "output_type": "stream",
     "text": [
      "0.5\n"
     ]
    }
   ],
   "source": [
    "print(x/y)"
   ]
  },
  {
   "cell_type": "code",
   "execution_count": 9,
   "id": "0ffa8b89",
   "metadata": {},
   "outputs": [
    {
     "name": "stdout",
     "output_type": "stream",
     "text": [
      "0.0\n"
     ]
    }
   ],
   "source": [
    "print(x//y)"
   ]
  },
  {
   "cell_type": "code",
   "execution_count": 10,
   "id": "a0f86aec",
   "metadata": {},
   "outputs": [
    {
     "name": "stdout",
     "output_type": "stream",
     "text": [
      "10.0\n"
     ]
    }
   ],
   "source": [
    "print(x%y)"
   ]
  },
  {
   "cell_type": "code",
   "execution_count": 11,
   "id": "fef6bbf5",
   "metadata": {},
   "outputs": [
    {
     "name": "stdout",
     "output_type": "stream",
     "text": [
      "<memory at 0x00000251FF98B340>\n"
     ]
    }
   ],
   "source": [
    "z = b\"Hi\"\n",
    "print(memoryview(z))"
   ]
  },
  {
   "cell_type": "code",
   "execution_count": 12,
   "id": "cc4c699a",
   "metadata": {},
   "outputs": [
    {
     "name": "stdout",
     "output_type": "stream",
     "text": [
      "12000.0\n",
      "1730000000000.0\n",
      "70000.0\n"
     ]
    }
   ],
   "source": [
    "a = 12e3\n",
    "b = 173E10\n",
    "c = 7e4\n",
    "\n",
    "print(a)\n",
    "print(b)\n",
    "print(c)"
   ]
  },
  {
   "cell_type": "code",
   "execution_count": 13,
   "id": "ce597466",
   "metadata": {},
   "outputs": [],
   "source": [
    "a = 1+2j\n",
    "b = 2+4j\n",
    "c = 5j+2"
   ]
  },
  {
   "cell_type": "code",
   "execution_count": 14,
   "id": "6bc7f439",
   "metadata": {},
   "outputs": [
    {
     "name": "stdout",
     "output_type": "stream",
     "text": [
      "<class 'complex'> <class 'complex'>\n",
      "(3+6j)\n",
      "(3+7j)\n"
     ]
    }
   ],
   "source": [
    "print(type(a),type(b))\n",
    "print(a+b)\n",
    "print(a+c)"
   ]
  },
  {
   "cell_type": "markdown",
   "id": "b1bfaa4f",
   "metadata": {},
   "source": [
    "## Text Data Type"
   ]
  },
  {
   "cell_type": "code",
   "execution_count": 22,
   "id": "4ea8b8ae",
   "metadata": {},
   "outputs": [],
   "source": [
    "a = \"Hi\"\n",
    "b = 'Hello'\n",
    "c = 'W'"
   ]
  },
  {
   "cell_type": "code",
   "execution_count": 23,
   "id": "d794339f",
   "metadata": {},
   "outputs": [
    {
     "name": "stdout",
     "output_type": "stream",
     "text": [
      "<class 'str'>\n",
      "<class 'str'>\n",
      "<class 'str'>\n"
     ]
    }
   ],
   "source": [
    "print(type(a))\n",
    "print(type(b))\n",
    "print(type(c))"
   ]
  },
  {
   "cell_type": "code",
   "execution_count": 27,
   "id": "655b435b",
   "metadata": {},
   "outputs": [
    {
     "name": "stdout",
     "output_type": "stream",
     "text": [
      "Hi Hello\n"
     ]
    }
   ],
   "source": [
    "print(a+ \" \" +b)"
   ]
  },
  {
   "cell_type": "code",
   "execution_count": 25,
   "id": "65b02255",
   "metadata": {},
   "outputs": [
    {
     "name": "stdout",
     "output_type": "stream",
     "text": [
      "Hi Hello\n"
     ]
    }
   ],
   "source": [
    "print(a,b)"
   ]
  },
  {
   "cell_type": "code",
   "execution_count": 26,
   "id": "f4399598",
   "metadata": {},
   "outputs": [
    {
     "name": "stdout",
     "output_type": "stream",
     "text": [
      "Hello Hi     "
     ]
    }
   ],
   "source": [
    "print(b,a,end= \"     \")"
   ]
  },
  {
   "cell_type": "code",
   "execution_count": 20,
   "id": "300fd587",
   "metadata": {},
   "outputs": [
    {
     "name": "stdout",
     "output_type": "stream",
     "text": [
      "Hi Hello,"
     ]
    }
   ],
   "source": [
    "print(a,b,end=\",\")"
   ]
  },
  {
   "cell_type": "markdown",
   "id": "7b426be8",
   "metadata": {},
   "source": [
    "## Multi line String"
   ]
  },
  {
   "cell_type": "code",
   "execution_count": 47,
   "id": "8499a98e",
   "metadata": {},
   "outputs": [],
   "source": [
    "a = \"\"\"Hello Guys\n",
    "Welcome to the new content\n",
    "I hope you will like it\"\"\""
   ]
  },
  {
   "cell_type": "code",
   "execution_count": 48,
   "id": "15c108ac",
   "metadata": {},
   "outputs": [
    {
     "name": "stdout",
     "output_type": "stream",
     "text": [
      "Hello Guys\n",
      "Welcome to the new content\n",
      "I hope you will like it\n"
     ]
    }
   ],
   "source": [
    "print(a)"
   ]
  },
  {
   "cell_type": "code",
   "execution_count": 49,
   "id": "f530376d",
   "metadata": {},
   "outputs": [],
   "source": [
    "b = \"Nishanthan\""
   ]
  },
  {
   "cell_type": "code",
   "execution_count": 50,
   "id": "c7388eed",
   "metadata": {},
   "outputs": [
    {
     "name": "stdout",
     "output_type": "stream",
     "text": [
      "Hello Guys\n",
      "Welcome to the new content\n",
      "I hope you will like it Nishanthan\n"
     ]
    }
   ],
   "source": [
    "print(a,b)"
   ]
  },
  {
   "cell_type": "markdown",
   "id": "46f77baf",
   "metadata": {},
   "source": [
    "## String is an array"
   ]
  },
  {
   "cell_type": "code",
   "execution_count": 51,
   "id": "4332b733",
   "metadata": {},
   "outputs": [
    {
     "name": "stdout",
     "output_type": "stream",
     "text": [
      "Hello Guys\n",
      "Welcome to the new content\n",
      "I hope you will like it\n"
     ]
    }
   ],
   "source": [
    "print(a)"
   ]
  },
  {
   "cell_type": "code",
   "execution_count": 55,
   "id": "cbddb4e7",
   "metadata": {},
   "outputs": [
    {
     "name": "stdout",
     "output_type": "stream",
     "text": [
      "l\n"
     ]
    }
   ],
   "source": [
    "print(a[2]) # Hello -> H,e,l,l,o"
   ]
  },
  {
   "cell_type": "code",
   "execution_count": 57,
   "id": "95098070",
   "metadata": {},
   "outputs": [
    {
     "name": "stdout",
     "output_type": "stream",
     "text": [
      "W\n"
     ]
    }
   ],
   "source": [
    "print(a[11])"
   ]
  },
  {
   "cell_type": "code",
   "execution_count": 54,
   "id": "91326631",
   "metadata": {},
   "outputs": [
    {
     "name": "stdout",
     "output_type": "stream",
     "text": [
      "Nishanthan\n"
     ]
    }
   ],
   "source": [
    "print(b)"
   ]
  },
  {
   "cell_type": "code",
   "execution_count": 64,
   "id": "e0c9150b",
   "metadata": {},
   "outputs": [
    {
     "name": "stdout",
     "output_type": "stream",
     "text": [
      "N\n"
     ]
    }
   ],
   "source": [
    "print(b[0])"
   ]
  },
  {
   "cell_type": "code",
   "execution_count": 65,
   "id": "64dd2da5",
   "metadata": {},
   "outputs": [
    {
     "name": "stdout",
     "output_type": "stream",
     "text": [
      "n\n"
     ]
    }
   ],
   "source": [
    "print(b[len(b)-1])"
   ]
  },
  {
   "cell_type": "markdown",
   "id": "af3c7682",
   "metadata": {},
   "source": [
    "## Loop in  String"
   ]
  },
  {
   "cell_type": "code",
   "execution_count": 59,
   "id": "ad136a09",
   "metadata": {
    "scrolled": true
   },
   "outputs": [
    {
     "name": "stdout",
     "output_type": "stream",
     "text": [
      "N i s h a n t h a n "
     ]
    }
   ],
   "source": [
    "for i in b:\n",
    "    print(i,end = \" \")"
   ]
  },
  {
   "cell_type": "code",
   "execution_count": 67,
   "id": "48224347",
   "metadata": {},
   "outputs": [
    {
     "name": "stdout",
     "output_type": "stream",
     "text": [
      "Hello Guys\n",
      "Welcome to the new content\n",
      "I hope you will like it"
     ]
    }
   ],
   "source": [
    "for i in a:\n",
    "    print(i, end =\"\")"
   ]
  },
  {
   "cell_type": "code",
   "execution_count": 68,
   "id": "8703985f",
   "metadata": {},
   "outputs": [
    {
     "name": "stdout",
     "output_type": "stream",
     "text": [
      "H e l l o   G u y s \n",
      " W e l c o m e   t o   t h e   n e w   c o n t e n t \n",
      " I   h o p e   y o u   w i l l   l i k e   i t "
     ]
    }
   ],
   "source": [
    "for i in a:\n",
    "    print(i, end = \" \")"
   ]
  },
  {
   "cell_type": "markdown",
   "id": "a6e6c358",
   "metadata": {},
   "source": [
    "## You can also find that a specific substring is present in a string or not"
   ]
  },
  {
   "cell_type": "code",
   "execution_count": 60,
   "id": "23b47405",
   "metadata": {},
   "outputs": [
    {
     "name": "stdout",
     "output_type": "stream",
     "text": [
      "Hello Guys\n",
      "Welcome to the new content\n",
      "I hope you will like it\n"
     ]
    }
   ],
   "source": [
    "print(a)"
   ]
  },
  {
   "cell_type": "code",
   "execution_count": 69,
   "id": "9a34d8de",
   "metadata": {},
   "outputs": [
    {
     "name": "stdout",
     "output_type": "stream",
     "text": [
      "True\n",
      "False\n",
      "True\n",
      "False\n"
     ]
    }
   ],
   "source": [
    "print(\"content\" in a)\n",
    "print(\"content\" not in a)\n",
    "z = \"content\"\n",
    "print(z in a)\n",
    "print(z not in a)"
   ]
  },
  {
   "cell_type": "code",
   "execution_count": 70,
   "id": "6a0be200",
   "metadata": {},
   "outputs": [
    {
     "name": "stdout",
     "output_type": "stream",
     "text": [
      "True\n",
      "False\n",
      "False\n",
      "True\n"
     ]
    }
   ],
   "source": [
    "print(\"Ni\" in b)\n",
    "print(\"Ni\" not in b)\n",
    "z = \"Ni\"\n",
    "print(z in a)\n",
    "print(z not in a)"
   ]
  },
  {
   "cell_type": "code",
   "execution_count": 71,
   "id": "9577f676",
   "metadata": {},
   "outputs": [
    {
     "name": "stdout",
     "output_type": "stream",
     "text": [
      "False\n",
      "True\n",
      "False\n",
      "True\n"
     ]
    }
   ],
   "source": [
    "print(\"video\" in a)\n",
    "print(\"video\" not in a)\n",
    "z = \"video\"\n",
    "print(z in a)\n",
    "print(z not in a)"
   ]
  },
  {
   "cell_type": "markdown",
   "id": "0b952c8e",
   "metadata": {},
   "source": [
    "## String slicing"
   ]
  },
  {
   "cell_type": "code",
   "execution_count": 72,
   "id": "5f46af73",
   "metadata": {},
   "outputs": [
    {
     "name": "stdout",
     "output_type": "stream",
     "text": [
      "Nishanthan\n"
     ]
    }
   ],
   "source": [
    "print(b)"
   ]
  },
  {
   "cell_type": "code",
   "execution_count": 71,
   "id": "2c590d69",
   "metadata": {},
   "outputs": [
    {
     "name": "stdout",
     "output_type": "stream",
     "text": [
      "welcome \"nishanthan\"\n"
     ]
    }
   ],
   "source": [
    "print(\"welcome \\\"nishanthan\\\"\")"
   ]
  },
  {
   "cell_type": "code",
   "execution_count": 73,
   "id": "57458be6",
   "metadata": {},
   "outputs": [
    {
     "name": "stdout",
     "output_type": "stream",
     "text": [
      "Nishanthan\n"
     ]
    }
   ],
   "source": [
    "print(b[0:10])"
   ]
  },
  {
   "cell_type": "code",
   "execution_count": 74,
   "id": "f5db293f",
   "metadata": {},
   "outputs": [
    {
     "name": "stdout",
     "output_type": "stream",
     "text": [
      "nahtnahsiN\n"
     ]
    }
   ],
   "source": [
    "print(b[::-1])"
   ]
  },
  {
   "cell_type": "code",
   "execution_count": 75,
   "id": "787abbf0",
   "metadata": {},
   "outputs": [
    {
     "name": "stdout",
     "output_type": "stream",
     "text": [
      "htnah\n"
     ]
    }
   ],
   "source": [
    "print(b[7:2:-1])"
   ]
  },
  {
   "cell_type": "code",
   "execution_count": 76,
   "id": "e198cda7",
   "metadata": {},
   "outputs": [
    {
     "name": "stdout",
     "output_type": "stream",
     "text": [
      "Nishanthan\n"
     ]
    }
   ],
   "source": [
    "print(b[::])"
   ]
  },
  {
   "cell_type": "code",
   "execution_count": 77,
   "id": "137cba2c",
   "metadata": {},
   "outputs": [
    {
     "name": "stdout",
     "output_type": "stream",
     "text": [
      "Nisha\n"
     ]
    }
   ],
   "source": [
    "print(b[:5])"
   ]
  },
  {
   "cell_type": "code",
   "execution_count": 78,
   "id": "bdfd8f05",
   "metadata": {},
   "outputs": [
    {
     "name": "stdout",
     "output_type": "stream",
     "text": [
      "Nisha\n"
     ]
    }
   ],
   "source": [
    "print(b[:-5])"
   ]
  },
  {
   "cell_type": "code",
   "execution_count": 62,
   "id": "0820381a",
   "metadata": {},
   "outputs": [
    {
     "name": "stdout",
     "output_type": "stream",
     "text": [
      "n\n"
     ]
    }
   ],
   "source": [
    "print(b[-1])"
   ]
  },
  {
   "cell_type": "code",
   "execution_count": 79,
   "id": "2238b0dc",
   "metadata": {},
   "outputs": [
    {
     "name": "stdout",
     "output_type": "stream",
     "text": [
      "Hello Guys\n",
      "Welcome to the new content\n",
      "I hope you will like it\n"
     ]
    }
   ],
   "source": [
    "print(a)"
   ]
  },
  {
   "cell_type": "code",
   "execution_count": 80,
   "id": "ff290f10",
   "metadata": {},
   "outputs": [
    {
     "name": "stdout",
     "output_type": "stream",
     "text": [
      "Hell\n"
     ]
    }
   ],
   "source": [
    "print(a[0:4])"
   ]
  },
  {
   "cell_type": "code",
   "execution_count": 81,
   "id": "70e32783",
   "metadata": {},
   "outputs": [
    {
     "name": "stdout",
     "output_type": "stream",
     "text": [
      "H\n"
     ]
    }
   ],
   "source": [
    "print(a[0])"
   ]
  },
  {
   "cell_type": "markdown",
   "id": "6ee5e0d0",
   "metadata": {},
   "source": [
    "## String Fromat"
   ]
  },
  {
   "cell_type": "code",
   "execution_count": 110,
   "id": "daa76838",
   "metadata": {},
   "outputs": [],
   "source": [
    "a = \"\"\"Hello Guys\n",
    "Welcome to the new content\n",
    "I hope you will like it Nishanthan\"\"\""
   ]
  },
  {
   "cell_type": "code",
   "execution_count": 111,
   "id": "6a194878",
   "metadata": {},
   "outputs": [
    {
     "name": "stdout",
     "output_type": "stream",
     "text": [
      "Welome not will be like  Hello Guys\n",
      "Welcome to the new content\n",
      "I hope you will like it Nishanthan\n"
     ]
    }
   ],
   "source": [
    "print(\"Welome not will be like  {}\".format(a))"
   ]
  },
  {
   "cell_type": "code",
   "execution_count": 115,
   "id": "464ee251",
   "metadata": {
    "scrolled": true
   },
   "outputs": [
    {
     "name": "stdout",
     "output_type": "stream",
     "text": [
      "Welome not will be like  \"Hello Guys\n",
      "Welcome to the new content\n",
      "I hope you will like it Nishanthan\"\n"
     ]
    }
   ],
   "source": [
    "print(\"Welome not will be like  \\\"{}\\\"\".format(a))  # formatting the string using escape character \\"
   ]
  },
  {
   "cell_type": "code",
   "execution_count": 103,
   "id": "d31b3b6b",
   "metadata": {},
   "outputs": [
    {
     "name": "stdout",
     "output_type": "stream",
     "text": [
      "Welcome \"Nishanthan\"\n"
     ]
    }
   ],
   "source": [
    "print(\"Welcome \\\"Nishanthan\\\"\")"
   ]
  },
  {
   "cell_type": "code",
   "execution_count": 104,
   "id": "c214435e",
   "metadata": {},
   "outputs": [
    {
     "name": "stdout",
     "output_type": "stream",
     "text": [
      "Welcome to python\n"
     ]
    }
   ],
   "source": [
    "a = \"Welcome\"\n",
    "b = \"to\"\n",
    "c = \"python\"\n",
    "print(\"{} {} {}\".format(a,b,c))"
   ]
  },
  {
   "cell_type": "code",
   "execution_count": 125,
   "id": "26653809",
   "metadata": {},
   "outputs": [
    {
     "name": "stdout",
     "output_type": "stream",
     "text": [
      "Nwelcome Iwelcome Swelcome Hwelcome Awelcome Nwelcome Twelcome Hwelcome Awelcome Nwelcome  \n",
      "wNISHANTHAN eNISHANTHAN lNISHANTHAN cNISHANTHAN oNISHANTHAN mNISHANTHAN eNISHANTHAN  \n"
     ]
    }
   ],
   "source": [
    "a = \"welcome \"\n",
    "b = \"NISHANTHAN \" \n",
    "print(a.join(b))\n",
    "print(b.join(a))"
   ]
  },
  {
   "cell_type": "code",
   "execution_count": null,
   "id": "9e9435fc",
   "metadata": {},
   "outputs": [],
   "source": []
  },
  {
   "cell_type": "code",
   "execution_count": null,
   "id": "803cd9e3",
   "metadata": {},
   "outputs": [],
   "source": []
  }
 ],
 "metadata": {
  "kernelspec": {
   "display_name": "Python 3 (ipykernel)",
   "language": "python",
   "name": "python3"
  },
  "language_info": {
   "codemirror_mode": {
    "name": "ipython",
    "version": 3
   },
   "file_extension": ".py",
   "mimetype": "text/x-python",
   "name": "python",
   "nbconvert_exporter": "python",
   "pygments_lexer": "ipython3",
   "version": "3.9.13"
  }
 },
 "nbformat": 4,
 "nbformat_minor": 5
}
