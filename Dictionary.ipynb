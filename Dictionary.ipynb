{
 "cells": [
  {
   "cell_type": "code",
   "execution_count": 1,
   "id": "913198ce",
   "metadata": {},
   "outputs": [],
   "source": [
    "dict = {'Tie':195, 'File':250}"
   ]
  },
  {
   "cell_type": "code",
   "execution_count": 2,
   "id": "de488357",
   "metadata": {},
   "outputs": [
    {
     "name": "stdout",
     "output_type": "stream",
     "text": [
      "445\n"
     ]
    }
   ],
   "source": [
    "print(dict['Tie']+dict['File'])"
   ]
  },
  {
   "cell_type": "code",
   "execution_count": 7,
   "id": "7a832d91",
   "metadata": {},
   "outputs": [
    {
     "name": "stdout",
     "output_type": "stream",
     "text": [
      "dict_keys(['Tie', 'File'])\n"
     ]
    }
   ],
   "source": [
    "print(dict.keys())  # to get keys"
   ]
  },
  {
   "cell_type": "code",
   "execution_count": 8,
   "id": "107171b1",
   "metadata": {},
   "outputs": [
    {
     "name": "stdout",
     "output_type": "stream",
     "text": [
      "dict_values([195, 250])\n"
     ]
    }
   ],
   "source": [
    "print(dict.values())  # to get values"
   ]
  },
  {
   "cell_type": "code",
   "execution_count": 9,
   "id": "1089f6cd",
   "metadata": {},
   "outputs": [
    {
     "name": "stdout",
     "output_type": "stream",
     "text": [
      "dict_items([('Tie', 195), ('File', 250)])\n"
     ]
    }
   ],
   "source": [
    "print(dict.items())  # to get dictionary as list"
   ]
  },
  {
   "cell_type": "code",
   "execution_count": null,
   "id": "90334603",
   "metadata": {},
   "outputs": [],
   "source": []
  }
 ],
 "metadata": {
  "kernelspec": {
   "display_name": "Python 3 (ipykernel)",
   "language": "python",
   "name": "python3"
  },
  "language_info": {
   "codemirror_mode": {
    "name": "ipython",
    "version": 3
   },
   "file_extension": ".py",
   "mimetype": "text/x-python",
   "name": "python",
   "nbconvert_exporter": "python",
   "pygments_lexer": "ipython3",
   "version": "3.9.13"
  }
 },
 "nbformat": 4,
 "nbformat_minor": 5
}
