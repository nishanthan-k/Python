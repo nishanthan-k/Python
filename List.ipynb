{
 "cells": [
  {
   "cell_type": "markdown",
   "id": "8107a0c7",
   "metadata": {},
   "source": [
    "## List"
   ]
  },
  {
   "cell_type": "markdown",
   "id": "7a2b88c0",
   "metadata": {},
   "source": [
    "## Declaring the list"
   ]
  },
  {
   "cell_type": "code",
   "execution_count": 24,
   "id": "d43064fe",
   "metadata": {},
   "outputs": [],
   "source": [
    "a = [1,2,\"Hi\",12.2,True]\n",
    "\n",
    "b = list((1,2,\"Hi\",12.2,True))"
   ]
  },
  {
   "cell_type": "code",
   "execution_count": 25,
   "id": "56c2faa1",
   "metadata": {},
   "outputs": [
    {
     "name": "stdout",
     "output_type": "stream",
     "text": [
      "[1, 2, 'Hi', 12.2, True]\n",
      "[1, 2, 'Hi', 12.2, True]\n"
     ]
    }
   ],
   "source": [
    "print(a)\n",
    "print(b)"
   ]
  },
  {
   "cell_type": "code",
   "execution_count": 26,
   "id": "17628392",
   "metadata": {},
   "outputs": [
    {
     "name": "stdout",
     "output_type": "stream",
     "text": [
      "<class 'list'> <class 'list'>\n"
     ]
    }
   ],
   "source": [
    "print(type(a),type(b))"
   ]
  },
  {
   "cell_type": "markdown",
   "id": "1547e53b",
   "metadata": {},
   "source": [
    "## Accessing the list"
   ]
  },
  {
   "cell_type": "code",
   "execution_count": 27,
   "id": "be4abbdf",
   "metadata": {},
   "outputs": [
    {
     "name": "stdout",
     "output_type": "stream",
     "text": [
      "1 2 Hi 12.2 True "
     ]
    }
   ],
   "source": [
    "for i in range(len(a)):\n",
    "    print(a[i], end =\" \")\n",
    "    \n"
   ]
  },
  {
   "cell_type": "code",
   "execution_count": 28,
   "id": "e6190036",
   "metadata": {},
   "outputs": [
    {
     "name": "stdout",
     "output_type": "stream",
     "text": [
      "1 2 Hi 12.2 True "
     ]
    }
   ],
   "source": [
    "for i in a:\n",
    "    print(i, end = \" \")"
   ]
  },
  {
   "cell_type": "code",
   "execution_count": 29,
   "id": "42c6ceff",
   "metadata": {},
   "outputs": [
    {
     "name": "stdout",
     "output_type": "stream",
     "text": [
      "True 12.2 Hi 2 1 "
     ]
    }
   ],
   "source": [
    "for i in range(len(a)-1, -1, -1):\n",
    "    print(a[i], end = \" \")"
   ]
  },
  {
   "cell_type": "code",
   "execution_count": 30,
   "id": "5aafcb60",
   "metadata": {},
   "outputs": [
    {
     "name": "stdout",
     "output_type": "stream",
     "text": [
      "True 12.2 Hi 2 1 "
     ]
    }
   ],
   "source": [
    "for i in a[::-1]:\n",
    "    print(i, end = \" \")"
   ]
  },
  {
   "cell_type": "code",
   "execution_count": 31,
   "id": "57d498bd",
   "metadata": {},
   "outputs": [
    {
     "name": "stdout",
     "output_type": "stream",
     "text": [
      "True 12.2 Hi 2 1 "
     ]
    }
   ],
   "source": [
    "for i in reversed(a):\n",
    "    print(i, end = \" \")"
   ]
  },
  {
   "cell_type": "markdown",
   "id": "d8f18755",
   "metadata": {},
   "source": [
    "## Check if the item is present in the list or  not"
   ]
  },
  {
   "cell_type": "code",
   "execution_count": 32,
   "id": "a84c848a",
   "metadata": {},
   "outputs": [
    {
     "name": "stdout",
     "output_type": "stream",
     "text": [
      "True\n"
     ]
    }
   ],
   "source": [
    "print(\"Hi\" in a)"
   ]
  },
  {
   "cell_type": "code",
   "execution_count": 33,
   "id": "e53156af",
   "metadata": {},
   "outputs": [
    {
     "name": "stdout",
     "output_type": "stream",
     "text": [
      "Enter the string : aedsfg\n",
      "Hi is not in a\n",
      "False\n"
     ]
    }
   ],
   "source": [
    "s = input(\"Enter the string : \");\n",
    "if s in a:\n",
    "    print(\"Hi is in a\")\n",
    "    print(\"True\")\n",
    "else:\n",
    "    print(\"Hi is not in a\")\n",
    "    print(\"False\")"
   ]
  },
  {
   "cell_type": "code",
   "execution_count": null,
   "id": "b4952ab5",
   "metadata": {},
   "outputs": [],
   "source": []
  },
  {
   "cell_type": "code",
   "execution_count": null,
   "id": "b240bf5a",
   "metadata": {},
   "outputs": [],
   "source": []
  },
  {
   "cell_type": "markdown",
   "id": "2cb76671",
   "metadata": {},
   "source": [
    "### To also access the original index, use enumerate() on your list before passing it to reversed():\n",
    "###   enumerate() returns a generator and generators can't be reversed, you need to convert it to a list first.\n"
   ]
  },
  {
   "cell_type": "code",
   "execution_count": 34,
   "id": "14d7bce8",
   "metadata": {},
   "outputs": [
    {
     "name": "stdout",
     "output_type": "stream",
     "text": [
      "4 True\n",
      "3 12.2\n",
      "2 Hi\n",
      "1 2\n",
      "0 1\n"
     ]
    }
   ],
   "source": [
    "for element,index in reversed(list(enumerate(a))):\n",
    "    print(element, index)"
   ]
  },
  {
   "cell_type": "markdown",
   "id": "52efa456",
   "metadata": {},
   "source": [
    "### enumerate method will return an element with the index"
   ]
  },
  {
   "cell_type": "code",
   "execution_count": 35,
   "id": "45a372cf",
   "metadata": {},
   "outputs": [
    {
     "name": "stdout",
     "output_type": "stream",
     "text": [
      "(0, 1) (1, 2) (2, 'Hi') (3, 12.2) (4, True) "
     ]
    }
   ],
   "source": [
    "for i in list(enumerate(a)):\n",
    "    print(i, end = \" \")"
   ]
  },
  {
   "cell_type": "markdown",
   "id": "6435c244",
   "metadata": {},
   "source": [
    "##  List Manipulation"
   ]
  },
  {
   "cell_type": "code",
   "execution_count": 1,
   "id": "7a6967ea",
   "metadata": {},
   "outputs": [],
   "source": [
    "l = ['p','r','o','b','l','e','m']"
   ]
  },
  {
   "cell_type": "code",
   "execution_count": 2,
   "id": "161e9319",
   "metadata": {},
   "outputs": [],
   "source": [
    "l.remove('p')"
   ]
  },
  {
   "cell_type": "code",
   "execution_count": 3,
   "id": "fd03581d",
   "metadata": {},
   "outputs": [
    {
     "name": "stdout",
     "output_type": "stream",
     "text": [
      "['r', 'o', 'b', 'l', 'e', 'm']\n"
     ]
    }
   ],
   "source": [
    "print(l)"
   ]
  },
  {
   "cell_type": "code",
   "execution_count": 4,
   "id": "fc4545a7",
   "metadata": {},
   "outputs": [
    {
     "data": {
      "text/plain": [
       "'m'"
      ]
     },
     "execution_count": 4,
     "metadata": {},
     "output_type": "execute_result"
    }
   ],
   "source": [
    "l.pop()"
   ]
  },
  {
   "cell_type": "code",
   "execution_count": 5,
   "id": "6fda770d",
   "metadata": {},
   "outputs": [
    {
     "name": "stdout",
     "output_type": "stream",
     "text": [
      "['r', 'o', 'b', 'l', 'e']\n"
     ]
    }
   ],
   "source": [
    "print(l)"
   ]
  },
  {
   "cell_type": "code",
   "execution_count": 6,
   "id": "e9ec865a",
   "metadata": {},
   "outputs": [
    {
     "data": {
      "text/plain": [
       "'o'"
      ]
     },
     "execution_count": 6,
     "metadata": {},
     "output_type": "execute_result"
    }
   ],
   "source": [
    "l.pop(1)"
   ]
  },
  {
   "cell_type": "code",
   "execution_count": 7,
   "id": "8a9be29a",
   "metadata": {},
   "outputs": [
    {
     "name": "stdout",
     "output_type": "stream",
     "text": [
      "['r', 'b', 'l', 'e']\n"
     ]
    }
   ],
   "source": [
    "print(l)"
   ]
  },
  {
   "cell_type": "code",
   "execution_count": 41,
   "id": "979d2b01",
   "metadata": {},
   "outputs": [],
   "source": [
    "del l[2]"
   ]
  },
  {
   "cell_type": "code",
   "execution_count": 42,
   "id": "e78b27ee",
   "metadata": {},
   "outputs": [
    {
     "name": "stdout",
     "output_type": "stream",
     "text": [
      "['r', 'o', 'l', 'e']\n"
     ]
    }
   ],
   "source": [
    "print(l)"
   ]
  },
  {
   "cell_type": "code",
   "execution_count": 10,
   "id": "2346624b",
   "metadata": {},
   "outputs": [
    {
     "name": "stdout",
     "output_type": "stream",
     "text": [
      "[1, 31, 2, 32, 2, 33, 2, 34]\n"
     ]
    }
   ],
   "source": [
    "a = [1,2,31,2,32,2,33,2,34]\n",
    "del a[1]\n",
    "print(a)"
   ]
  },
  {
   "cell_type": "code",
   "execution_count": 43,
   "id": "bca07dae",
   "metadata": {},
   "outputs": [],
   "source": [
    "del l"
   ]
  },
  {
   "cell_type": "code",
   "execution_count": 44,
   "id": "e70e3ae1",
   "metadata": {},
   "outputs": [
    {
     "ename": "NameError",
     "evalue": "name 'l' is not defined",
     "output_type": "error",
     "traceback": [
      "\u001b[1;31m---------------------------------------------------------------------------\u001b[0m",
      "\u001b[1;31mNameError\u001b[0m                                 Traceback (most recent call last)",
      "\u001b[1;32m~\\AppData\\Local\\Temp\\ipykernel_13196\\3958778477.py\u001b[0m in \u001b[0;36m<module>\u001b[1;34m\u001b[0m\n\u001b[1;32m----> 1\u001b[1;33m \u001b[0mprint\u001b[0m\u001b[1;33m(\u001b[0m\u001b[0ml\u001b[0m\u001b[1;33m)\u001b[0m\u001b[1;33m\u001b[0m\u001b[1;33m\u001b[0m\u001b[0m\n\u001b[0m",
      "\u001b[1;31mNameError\u001b[0m: name 'l' is not defined"
     ]
    }
   ],
   "source": [
    "print(l)"
   ]
  },
  {
   "cell_type": "code",
   "execution_count": 45,
   "id": "eeeabad0",
   "metadata": {},
   "outputs": [],
   "source": [
    "l = [1,2,3,4,5]"
   ]
  },
  {
   "cell_type": "code",
   "execution_count": 46,
   "id": "fbaf6d98",
   "metadata": {},
   "outputs": [
    {
     "name": "stdout",
     "output_type": "stream",
     "text": [
      "[1, 2, 3, 4, 5]\n"
     ]
    }
   ],
   "source": [
    "print(l)"
   ]
  },
  {
   "cell_type": "code",
   "execution_count": 47,
   "id": "4ff5d14c",
   "metadata": {},
   "outputs": [],
   "source": [
    "l.append(6)"
   ]
  },
  {
   "cell_type": "code",
   "execution_count": 48,
   "id": "6746646c",
   "metadata": {},
   "outputs": [
    {
     "name": "stdout",
     "output_type": "stream",
     "text": [
      "[1, 2, 3, 4, 5, 6]\n"
     ]
    }
   ],
   "source": [
    "print(l)"
   ]
  },
  {
   "cell_type": "code",
   "execution_count": 49,
   "id": "fc0eeda5",
   "metadata": {},
   "outputs": [],
   "source": [
    "l.append([7,8])"
   ]
  },
  {
   "cell_type": "code",
   "execution_count": 50,
   "id": "3f85f025",
   "metadata": {},
   "outputs": [
    {
     "name": "stdout",
     "output_type": "stream",
     "text": [
      "[1, 2, 3, 4, 5, 6, [7, 8]]\n"
     ]
    }
   ],
   "source": [
    "print(l)"
   ]
  },
  {
   "cell_type": "code",
   "execution_count": 51,
   "id": "52c9205b",
   "metadata": {},
   "outputs": [],
   "source": [
    "l.extend([9,10])"
   ]
  },
  {
   "cell_type": "code",
   "execution_count": 52,
   "id": "8c43212b",
   "metadata": {},
   "outputs": [
    {
     "name": "stdout",
     "output_type": "stream",
     "text": [
      "[1, 2, 3, 4, 5, 6, [7, 8], 9, 10]\n"
     ]
    }
   ],
   "source": [
    "print(l)"
   ]
  },
  {
   "cell_type": "code",
   "execution_count": 53,
   "id": "6b8ca6c0",
   "metadata": {},
   "outputs": [],
   "source": [
    "l2 = ['Hi', 'Hello', 'How are you']"
   ]
  },
  {
   "cell_type": "code",
   "execution_count": 54,
   "id": "1b643ea4",
   "metadata": {},
   "outputs": [],
   "source": [
    "l.extend(l2)"
   ]
  },
  {
   "cell_type": "code",
   "execution_count": 55,
   "id": "d3d5d0c9",
   "metadata": {},
   "outputs": [
    {
     "name": "stdout",
     "output_type": "stream",
     "text": [
      "[1, 2, 3, 4, 5, 6, [7, 8], 9, 10, 'Hi', 'Hello', 'How are you']\n"
     ]
    }
   ],
   "source": [
    "print(l)"
   ]
  },
  {
   "cell_type": "code",
   "execution_count": 56,
   "id": "a7cee11a",
   "metadata": {},
   "outputs": [],
   "source": [
    "l.insert(2,'Python')"
   ]
  },
  {
   "cell_type": "code",
   "execution_count": 57,
   "id": "44b47e1f",
   "metadata": {},
   "outputs": [
    {
     "name": "stdout",
     "output_type": "stream",
     "text": [
      "[1, 2, 'Python', 3, 4, 5, 6, [7, 8], 9, 10, 'Hi', 'Hello', 'How are you']\n"
     ]
    }
   ],
   "source": [
    "print(l)"
   ]
  },
  {
   "cell_type": "code",
   "execution_count": 58,
   "id": "304e2845",
   "metadata": {},
   "outputs": [],
   "source": [
    "new_list = l.copy()"
   ]
  },
  {
   "cell_type": "code",
   "execution_count": 59,
   "id": "f63a17a8",
   "metadata": {},
   "outputs": [
    {
     "name": "stdout",
     "output_type": "stream",
     "text": [
      "[1, 2, 'Python', 3, 4, 5, 6, [7, 8], 9, 10, 'Hi', 'Hello', 'How are you']\n"
     ]
    }
   ],
   "source": [
    "print(new_list)"
   ]
  },
  {
   "cell_type": "code",
   "execution_count": 60,
   "id": "530a5dc2",
   "metadata": {},
   "outputs": [],
   "source": [
    "new_list.extend(l)"
   ]
  },
  {
   "cell_type": "code",
   "execution_count": 61,
   "id": "a7797ad2",
   "metadata": {},
   "outputs": [
    {
     "name": "stdout",
     "output_type": "stream",
     "text": [
      "[1, 2, 'Python', 3, 4, 5, 6, [7, 8], 9, 10, 'Hi', 'Hello', 'How are you', 1, 2, 'Python', 3, 4, 5, 6, [7, 8], 9, 10, 'Hi', 'Hello', 'How are you']\n"
     ]
    }
   ],
   "source": [
    "print(new_list)"
   ]
  },
  {
   "cell_type": "code",
   "execution_count": 62,
   "id": "0555f343",
   "metadata": {},
   "outputs": [
    {
     "name": "stdout",
     "output_type": "stream",
     "text": [
      "2\n"
     ]
    }
   ],
   "source": [
    "print(new_list.index('Python'))"
   ]
  },
  {
   "cell_type": "code",
   "execution_count": 63,
   "id": "5bc228a6",
   "metadata": {},
   "outputs": [
    {
     "name": "stdout",
     "output_type": "stream",
     "text": [
      "[1, 2, 'Python', 3, 4, 5, 6, [7, 8], 9, 10, 'Hi', 'Hello', 'How are you', 1, 2, 'Python', 3, 4, 5, 6, [7, 8], 9, 10, 'Hi', 'Hello', 'How are you']\n"
     ]
    }
   ],
   "source": [
    "print(new_list)"
   ]
  },
  {
   "cell_type": "code",
   "execution_count": 64,
   "id": "02f7f111",
   "metadata": {},
   "outputs": [
    {
     "name": "stdout",
     "output_type": "stream",
     "text": [
      "['How are you', 'Hello', 'Hi', 10, 9, [7, 8], 6, 5, 4, 3, 'Python', 2, 1, 'How are you', 'Hello', 'Hi', 10, 9, [7, 8], 6, 5, 4, 3, 'Python', 2, 1]\n"
     ]
    }
   ],
   "source": [
    "new_list.reverse()\n",
    "print(new_list)"
   ]
  },
  {
   "cell_type": "code",
   "execution_count": null,
   "id": "c2051a4e",
   "metadata": {},
   "outputs": [],
   "source": []
  },
  {
   "cell_type": "code",
   "execution_count": null,
   "id": "60e9b1e6",
   "metadata": {},
   "outputs": [],
   "source": [
    "new_list.reverse()\n",
    "print(new_list)"
   ]
  },
  {
   "cell_type": "code",
   "execution_count": 66,
   "id": "4e9c08e1",
   "metadata": {},
   "outputs": [],
   "source": [
    "new_list.append('Welcome')"
   ]
  },
  {
   "cell_type": "code",
   "execution_count": 72,
   "id": "e6caf431",
   "metadata": {},
   "outputs": [
    {
     "name": "stdout",
     "output_type": "stream",
     "text": [
      "['Hello', 'Hi', 'How are you', 10, 9, [7, 8], 6, 5, 4, 3, 'Python', 2, 1, 'How are you', 'Hello', 'Hi', 10, 9, [7, 8], 6, 5, 4, 3, 'Python', 2, 1, 'Welcome']\n"
     ]
    }
   ],
   "source": [
    "print(new_list)"
   ]
  },
  {
   "cell_type": "code",
   "execution_count": 67,
   "id": "815b6bd4",
   "metadata": {},
   "outputs": [
    {
     "name": "stdout",
     "output_type": "stream",
     "text": [
      "1\n"
     ]
    }
   ],
   "source": [
    "print(new_list.count('Welcome'))"
   ]
  },
  {
   "cell_type": "code",
   "execution_count": 68,
   "id": "00fe9b76",
   "metadata": {},
   "outputs": [
    {
     "name": "stdout",
     "output_type": "stream",
     "text": [
      "2\n"
     ]
    }
   ],
   "source": [
    "print(new_list.count('Python'))"
   ]
  },
  {
   "cell_type": "code",
   "execution_count": 69,
   "id": "44e0862f",
   "metadata": {},
   "outputs": [],
   "source": [
    "l = [12,43,2,45,50,98]"
   ]
  },
  {
   "cell_type": "code",
   "execution_count": 70,
   "id": "67d5d118",
   "metadata": {},
   "outputs": [],
   "source": [
    "l.sort()"
   ]
  },
  {
   "cell_type": "code",
   "execution_count": 71,
   "id": "8f404d55",
   "metadata": {},
   "outputs": [
    {
     "name": "stdout",
     "output_type": "stream",
     "text": [
      "[2, 12, 43, 45, 50, 98]\n"
     ]
    }
   ],
   "source": [
    "print(l)"
   ]
  },
  {
   "cell_type": "code",
   "execution_count": null,
   "id": "72b7c557",
   "metadata": {},
   "outputs": [],
   "source": [
    "l.sort(reverse=True)"
   ]
  },
  {
   "cell_type": "code",
   "execution_count": null,
   "id": "eebb90dc",
   "metadata": {},
   "outputs": [],
   "source": [
    "print(l)"
   ]
  },
  {
   "cell_type": "code",
   "execution_count": 76,
   "id": "681ff53e",
   "metadata": {},
   "outputs": [],
   "source": [
    "l.clear()"
   ]
  },
  {
   "cell_type": "code",
   "execution_count": 84,
   "id": "01f802ee",
   "metadata": {},
   "outputs": [
    {
     "name": "stdout",
     "output_type": "stream",
     "text": [
      "1 2 3 5 67 \n"
     ]
    },
    {
     "ename": "TypeError",
     "evalue": "'list' object is not callable",
     "output_type": "error",
     "traceback": [
      "\u001b[1;31m---------------------------------------------------------------------------\u001b[0m",
      "\u001b[1;31mTypeError\u001b[0m                                 Traceback (most recent call last)",
      "\u001b[1;32m~\\AppData\\Local\\Temp\\ipykernel_13196\\3678637018.py\u001b[0m in \u001b[0;36m<module>\u001b[1;34m\u001b[0m\n\u001b[1;32m----> 1\u001b[1;33m \u001b[0ma\u001b[0m \u001b[1;33m=\u001b[0m \u001b[0mlist\u001b[0m\u001b[1;33m(\u001b[0m\u001b[0mmap\u001b[0m\u001b[1;33m(\u001b[0m\u001b[0mint\u001b[0m \u001b[1;33m,\u001b[0m\u001b[0minput\u001b[0m\u001b[1;33m(\u001b[0m\u001b[1;33m)\u001b[0m\u001b[1;33m.\u001b[0m\u001b[0mstrip\u001b[0m\u001b[1;33m(\u001b[0m\u001b[1;33m)\u001b[0m\u001b[1;33m.\u001b[0m\u001b[0msplit\u001b[0m\u001b[1;33m(\u001b[0m\u001b[1;33m)\u001b[0m\u001b[1;33m)\u001b[0m\u001b[1;33m)\u001b[0m\u001b[1;33m\u001b[0m\u001b[1;33m\u001b[0m\u001b[0m\n\u001b[0m",
      "\u001b[1;31mTypeError\u001b[0m: 'list' object is not callable"
     ]
    }
   ],
   "source": [
    "a = list(map(int ,input().strip().split()))"
   ]
  },
  {
   "cell_type": "code",
   "execution_count": 80,
   "id": "cc9a0487",
   "metadata": {},
   "outputs": [
    {
     "name": "stdout",
     "output_type": "stream",
     "text": [
      "<class 'int'>\n",
      "<class 'str'>\n"
     ]
    }
   ],
   "source": [
    "num = int(123)\n",
    "s = str(num)\n",
    "print(type(num))\n",
    "print(type(s))"
   ]
  },
  {
   "cell_type": "code",
   "execution_count": null,
   "id": "10f30479",
   "metadata": {},
   "outputs": [],
   "source": []
  }
 ],
 "metadata": {
  "kernelspec": {
   "display_name": "Python 3 (ipykernel)",
   "language": "python",
   "name": "python3"
  },
  "language_info": {
   "codemirror_mode": {
    "name": "ipython",
    "version": 3
   },
   "file_extension": ".py",
   "mimetype": "text/x-python",
   "name": "python",
   "nbconvert_exporter": "python",
   "pygments_lexer": "ipython3",
   "version": "3.9.13"
  }
 },
 "nbformat": 4,
 "nbformat_minor": 5
}
